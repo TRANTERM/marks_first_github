{
 "cells": [
  {
   "cell_type": "code",
   "execution_count": 3,
   "outputs": [
    {
     "name": "stdout",
     "output_type": "stream",
     "text": [
      "hello bb\n"
     ]
    }
   ],
   "source": [
    "print(\"hello bb\")"
   ],
   "metadata": {
    "collapsed": false,
    "pycharm": {
     "name": "#%%\n"
    }
   }
  },
  {
   "cell_type": "code",
   "execution_count": null,
   "outputs": [],
   "source": [],
   "metadata": {
    "collapsed": false,
    "pycharm": {
     "name": "#%%\n"
    }
   }
  },
  {
   "cell_type": "code",
   "execution_count": 4,
   "outputs": [
    {
     "name": "stdout",
     "output_type": "stream",
     "text": [
      "The best place to learn to code is with freeCodeCamp!\n"
     ]
    }
   ],
   "source": [
    "def learn_to_code():\n",
    "    #create local variable\n",
    "    coding_website = \"freeCodeCamp\"\n",
    "    print(f\"The best place to learn to code is with {coding_website}!\")\n",
    "\n",
    "#call function\n",
    "learn_to_code()\n",
    "\n",
    "\n",
    "#output\n",
    "\n",
    "#The best place to learn to code is with freeCodeCamp!"
   ],
   "metadata": {
    "collapsed": false,
    "pycharm": {
     "name": "#%%\n"
    }
   }
  },
  {
   "cell_type": "code",
   "execution_count": 6,
   "outputs": [
    {
     "name": "stdout",
     "output_type": "stream",
     "text": [
      "This is my string ->I just created a str\n"
     ]
    },
    {
     "ename": "NameError",
     "evalue": "name 'code_website' is not defined",
     "output_type": "error",
     "traceback": [
      "\u001B[1;31m---------------------------------------------------------------------------\u001B[0m",
      "\u001B[1;31mNameError\u001B[0m                                 Traceback (most recent call last)",
      "\u001B[1;32m~\\AppData\\Local\\Temp\\1/ipykernel_17832/841564692.py\u001B[0m in \u001B[0;36m<module>\u001B[1;34m\u001B[0m\n\u001B[0;32m      6\u001B[0m \u001B[1;31m# call\u001B[0m\u001B[1;33m\u001B[0m\u001B[1;33m\u001B[0m\u001B[0m\n\u001B[0;32m      7\u001B[0m \u001B[0mlearn_to_code\u001B[0m\u001B[1;33m(\u001B[0m\u001B[1;33m)\u001B[0m\u001B[1;33m\u001B[0m\u001B[1;33m\u001B[0m\u001B[0m\n\u001B[1;32m----> 8\u001B[1;33m \u001B[0mprint\u001B[0m\u001B[1;33m(\u001B[0m\u001B[0mcode_website\u001B[0m\u001B[1;33m)\u001B[0m\u001B[1;33m\u001B[0m\u001B[1;33m\u001B[0m\u001B[0m\n\u001B[0m",
      "\u001B[1;31mNameError\u001B[0m: name 'code_website' is not defined"
     ]
    }
   ],
   "source": [
    "def learn_to_code():\n",
    "    #create a local varible\n",
    "    coding_website = \"I just created a str\"\n",
    "    print(f\"This is my string ->{coding_website}\")\n",
    "\n",
    "# call\n",
    "learn_to_code()\n",
    "print(code_website)"
   ],
   "metadata": {
    "collapsed": false,
    "pycharm": {
     "name": "#%%\n"
    }
   }
  },
  {
   "cell_type": "code",
   "execution_count": 7,
   "outputs": [
    {
     "name": "stdout",
     "output_type": "stream",
     "text": [
      "The best place to learn to code is with freeCodeCamp!\n",
      "freeCodeCamp\n"
     ]
    }
   ],
   "source": [
    "#create a global variable\n",
    "coding_website = \"freeCodeCamp\"\n",
    "\n",
    "def learn_to_code():\n",
    "    #access the variable 'coding_website' inside the function\n",
    "    print(f\"The best place to learn to code is with {coding_website}!\")\n",
    "\n",
    "#call the function\n",
    "learn_to_code()\n",
    "\n",
    "#access the variable 'coding_website' from outside the function\n",
    "print(coding_website)\n",
    "\n",
    "#output\n",
    "\n",
    "#The best place to learn to code is with freeCodeCamp!\n",
    "#freeCodeCamp"
   ],
   "metadata": {
    "collapsed": false,
    "pycharm": {
     "name": "#%%\n"
    }
   }
  },
  {
   "cell_type": "code",
   "execution_count": 8,
   "outputs": [
    {
     "name": "stdout",
     "output_type": "stream",
     "text": [
      "I want to visit London next year!\n",
      "I want to visit Athens next year!\n"
     ]
    }
   ],
   "source": [
    "#global variable\n",
    "city = \"Athens\"\n",
    "\n",
    "def travel_plans():\n",
    "    #local variable with the same name as the global variable\n",
    "    city = \"London\"\n",
    "    print(f\"I want to visit {city} next year!\")\n",
    "\n",
    "#call function - this will output the value of local variable\n",
    "travel_plans()\n",
    "\n",
    "#reference global variable - this will output the value of global variable\n",
    "print(f\"I want to visit {city} next year!\")\n",
    "\n",
    "#output\n",
    "\n",
    "#I want to visit London next year!\n",
    "#I want to visit Athens next year!"
   ],
   "metadata": {
    "collapsed": false,
    "pycharm": {
     "name": "#%%\n"
    }
   }
  },
  {
   "cell_type": "code",
   "execution_count": 10,
   "outputs": [
    {
     "ename": "UnboundLocalError",
     "evalue": "local variable 'city' referenced before assignment",
     "output_type": "error",
     "traceback": [
      "\u001B[1;31m---------------------------------------------------------------------------\u001B[0m",
      "\u001B[1;31mUnboundLocalError\u001B[0m                         Traceback (most recent call last)",
      "\u001B[1;32m~\\AppData\\Local\\Temp\\1/ipykernel_17832/1206654755.py\u001B[0m in \u001B[0;36m<module>\u001B[1;34m\u001B[0m\n\u001B[0;32m     14\u001B[0m \u001B[1;33m\u001B[0m\u001B[0m\n\u001B[0;32m     15\u001B[0m \u001B[1;31m#call function\u001B[0m\u001B[1;33m\u001B[0m\u001B[1;33m\u001B[0m\u001B[0m\n\u001B[1;32m---> 16\u001B[1;33m \u001B[0mtravel_plans\u001B[0m\u001B[1;33m(\u001B[0m\u001B[1;33m)\u001B[0m\u001B[1;33m\u001B[0m\u001B[1;33m\u001B[0m\u001B[0m\n\u001B[0m\u001B[0;32m     17\u001B[0m \u001B[1;33m\u001B[0m\u001B[0m\n\u001B[0;32m     18\u001B[0m \u001B[1;31m#output\u001B[0m\u001B[1;33m\u001B[0m\u001B[1;33m\u001B[0m\u001B[0m\n",
      "\u001B[1;32m~\\AppData\\Local\\Temp\\1/ipykernel_17832/1206654755.py\u001B[0m in \u001B[0;36mtravel_plans\u001B[1;34m()\u001B[0m\n\u001B[0;32m      5\u001B[0m     \u001B[1;31m#First, this is like when I tried to access the global variable defined outside the function.\u001B[0m\u001B[1;33m\u001B[0m\u001B[1;33m\u001B[0m\u001B[0m\n\u001B[0;32m      6\u001B[0m     \u001B[1;31m# This works fine on its own, as you saw earlier on.\u001B[0m\u001B[1;33m\u001B[0m\u001B[1;33m\u001B[0m\u001B[0m\n\u001B[1;32m----> 7\u001B[1;33m     \u001B[0mprint\u001B[0m\u001B[1;33m(\u001B[0m\u001B[1;34mf\"I want to visit {city} next year!\"\u001B[0m\u001B[1;33m)\u001B[0m\u001B[1;33m\u001B[0m\u001B[1;33m\u001B[0m\u001B[0m\n\u001B[0m\u001B[0;32m      8\u001B[0m \u001B[1;33m\u001B[0m\u001B[0m\n\u001B[0;32m      9\u001B[0m     \u001B[1;31m#However, when I then try to re-assign a different value to the global variable 'city' from inside the function,\u001B[0m\u001B[1;33m\u001B[0m\u001B[1;33m\u001B[0m\u001B[0m\n",
      "\u001B[1;31mUnboundLocalError\u001B[0m: local variable 'city' referenced before assignment"
     ]
    }
   ],
   "source": [
    "#global variable\n",
    "city = \"Athens\"\n",
    "\n",
    "def travel_plans():\n",
    "    #First, this is like when I tried to access the global variable defined outside the function.\n",
    "    # This works fine on its own, as you saw earlier on.\n",
    "    print(f\"I want to visit {city} next year!\")\n",
    "\n",
    "    #However, when I then try to re-assign a different value to the global variable 'city' from inside the function,\n",
    "    #after trying to print it,\n",
    "    #it will throw an error\n",
    "    city = \"London\"\n",
    "    print(f\"I want to visit {city} next year!\")\n",
    "\n",
    "#call function\n",
    "travel_plans()\n",
    "\n",
    "#output\n",
    "\n",
    "#UnboundLocalError: local variable 'city' referenced before assignment"
   ],
   "metadata": {
    "collapsed": false,
    "pycharm": {
     "name": "#%%\n"
    }
   }
  },
  {
   "cell_type": "code",
   "execution_count": 11,
   "outputs": [
    {
     "name": "stdout",
     "output_type": "stream",
     "text": [
      "I want to visit Athens next year!\n",
      "I want to visit Athens next year!\n",
      "I want to visit London next year!\n",
      "I want to visit London next year!\n"
     ]
    }
   ],
   "source": [
    "#global variable\n",
    "# This how you update global varibles in python in function you need to use the keyword global\n",
    "city = \"Athens\"\n",
    "\n",
    "#print value of global variable\n",
    "print(f\"I want to visit {city} next year!\")\n",
    "\n",
    "def travel_plans():\n",
    "    global city\n",
    "    #print initial value of global variable\n",
    "    print(f\"I want to visit {city} next year!\")\n",
    "    #assign a different value to global variable from within function\n",
    "    city = \"London\"\n",
    "    #print new value\n",
    "    print(f\"I want to visit {city} next year!\")\n",
    "\n",
    "#call function\n",
    "travel_plans()\n",
    "\n",
    "#print value of global variable\n",
    "print(f\"I want to visit {city} next year!\")"
   ],
   "metadata": {
    "collapsed": false,
    "pycharm": {
     "name": "#%%\n"
    }
   }
  },
  {
   "cell_type": "code",
   "execution_count": null,
   "outputs": [],
   "source": [
    "#global variable\n",
    "# This how you update global varibles in python in function you need to use the keyword global\n",
    "revenue = 200.00\n",
    "\n",
    "#print value of global variable\n",
    "print(f\"I want to visit {city} next year!\")\n",
    "\n",
    "def travel_plans():\n",
    "    global revenue\n",
    "    #print initial value of global variable\n",
    "    print(f\"I want to visit {revenue} next year!\")\n",
    "    #assign a different value to global variable from within function\n",
    "    revenue = 450.50\n",
    "    #print new value\n",
    "    print(f\"I want to visit {revenue} next year!\")\n",
    "\n",
    "#call function\n",
    "travel_plans()\n",
    "\n",
    "#print value of global variable\n",
    "print(f\"I want to visit {revenue} next year!\")"
   ],
   "metadata": {
    "collapsed": false,
    "pycharm": {
     "name": "#%%\n"
    }
   }
  },
  {
   "cell_type": "code",
   "execution_count": 2,
   "outputs": [
    {
     "name": "stdout",
     "output_type": "stream",
     "text": [
      " May 15nd 2022\n",
      "dict_items([('01', 'st'), ('21', 'st'), ('31', 'st'), ('02', 'nd'), ('22', 'nd'), ('03', 'rd'), ('23', 'rd')])\n",
      "dict_values([2, 3, 4])\n",
      "2\n",
      "print dic looping\n",
      "{'apple': 2, 'orange': 3, 'grapes': 4}\n",
      "print loop 1 dic\n",
      "apple, 2 orange, 3 grapes, 4 \n",
      "print loop 2 dic\n",
      "apple : 2\n",
      "orange : 3\n",
      "grapes : 4\n",
      "print loop 3 dic\n",
      "apple  :  2\n",
      "orange  :  3\n",
      "grapes  :  4\n",
      "A dictionary of student names and their score\n",
      "{\n",
      "          \"apple\": 2,\n",
      "          \"orange\": 3,\n",
      "          \"grapes\": 4\n",
      "}\n",
      "Nested dictionary containing student names and their scores in separate subjects\n",
      "{'Mathew': {'Math': 28, 'Science': 18, 'Econimics': 15}, 'Ritika': {'Math': 19, 'Science': 20, 'Econimics': 19}, 'John': {'Math': 11, 'Science': 22, 'Econimics': 17}}\n",
      "Iterate over key / value pairs of parent dictionary\n",
      "Mathew --\n",
      "Math  :  28\n",
      "Science  :  18\n",
      "Econimics  :  15\n",
      "Ritika --\n",
      "Math  :  19\n",
      "Science  :  20\n",
      "Econimics  :  19\n",
      "John --\n",
      "Math  :  11\n",
      "Science  :  22\n",
      "Econimics  :  17\n"
     ]
    }
   ],
   "source": [
    "from datetime import datetime\n",
    "import json\n",
    "\n",
    "lookup = {\n",
    "    '01': 'st',\n",
    "    '21': 'st',\n",
    "    '31': 'st',\n",
    "    '02': 'nd',\n",
    "    '22': 'nd',\n",
    "    '03': 'rd',\n",
    "    '23': 'rd'\n",
    "}\n",
    "\n",
    "print(f\"{datetime.now(): %B %d{lookup.get('02', 'ths')} %Y}\")\n",
    "\n",
    "print(lookup.items())\n",
    "\n",
    "# random sales dictionary\n",
    "sales = { 'apple': 2, 'orange': 3, 'grapes': 4 }\n",
    "\n",
    "print(sales.values())\n",
    "print(sales.get('apple'))\n",
    "\n",
    "print(\"print dic looping\")\n",
    "# print all dic\n",
    "print(sales)\n",
    "\n",
    "print(\"print loop 1 dic\")\n",
    "for key, value in sales.items():\n",
    "    print(f\"{key}, {value}\", end=' ')\n",
    "\n",
    "# Iterate over the key-value pairs of a dictionary\n",
    "# using list comprehension and print them\n",
    "print('')\n",
    "print(\"print loop 2 dic\")\n",
    "[print(key,':',value) for key, value in sales.items()]\n",
    "\n",
    "print(\"print loop 3 dic\")\n",
    "for key in sales:\n",
    "    print(key, ' : ', sales[key])\n",
    "\n",
    "\n",
    "print(\"A dictionary of student names and their score\")\n",
    "# A dictionary of student names and their score\n",
    "student_score = {   'Ritika': 5,\n",
    "                    'Sam': 7,\n",
    "                    'John': 10,\n",
    "                    'Aadi': 8}\n",
    "# Print contents of dict in json like format\n",
    "print(json.dumps(sales, indent=10))\n",
    "\n",
    "\n",
    "print(\"Nested dictionary containing student names and their scores in separate subjects\")\n",
    "student_score = {   'Mathew': { 'Math': 28,\n",
    "                                'Science': 18,\n",
    "                                'Econimics': 15},\n",
    "                    'Ritika': { 'Math': 19,\n",
    "                                'Science': 20,\n",
    "                                'Econimics': 19},\n",
    "                    'John': {   'Math': 11,\n",
    "                                'Science': 22,\n",
    "                                'Econimics': 17}\n",
    "                    }\n",
    "\n",
    "print(student_score)\n",
    "\n",
    "print(\"Iterate over key / value pairs of parent dictionary\")\n",
    "for key, value in student_score.items():\n",
    "    print(key, '--')\n",
    "    # Again iterate over the nested dictionary\n",
    "    for subject, score in value.items():\n",
    "        print(subject, ' : ', score)\n",
    "\n",
    "# April 14th 2022"
   ],
   "metadata": {
    "collapsed": false,
    "pycharm": {
     "name": "#%%\n"
    }
   }
  },
  {
   "cell_type": "code",
   "execution_count": 1,
   "outputs": [
    {
     "name": "stdout",
     "output_type": "stream",
     "text": [
      "Iterate over key / value pairs of parent dictionary\n"
     ]
    },
    {
     "ename": "NameError",
     "evalue": "name 'student_score' is not defined",
     "output_type": "error",
     "traceback": [
      "\u001B[1;31m---------------------------------------------------------------------------\u001B[0m",
      "\u001B[1;31mNameError\u001B[0m                                 Traceback (most recent call last)",
      "\u001B[1;32m~\\AppData\\Local\\Temp\\1/ipykernel_3024/1264570098.py\u001B[0m in \u001B[0;36m<module>\u001B[1;34m\u001B[0m\n\u001B[0;32m      1\u001B[0m \u001B[0mprint\u001B[0m\u001B[1;33m(\u001B[0m\u001B[1;34m\"Iterate over key / value pairs of parent dictionary\"\u001B[0m\u001B[1;33m)\u001B[0m\u001B[1;33m\u001B[0m\u001B[1;33m\u001B[0m\u001B[0m\n\u001B[1;32m----> 2\u001B[1;33m \u001B[1;32mfor\u001B[0m \u001B[0mkey\u001B[0m\u001B[1;33m,\u001B[0m \u001B[0mvalue\u001B[0m \u001B[1;32min\u001B[0m \u001B[0mstudent_score\u001B[0m\u001B[1;33m.\u001B[0m\u001B[0mitems\u001B[0m\u001B[1;33m(\u001B[0m\u001B[1;33m)\u001B[0m\u001B[1;33m:\u001B[0m\u001B[1;33m\u001B[0m\u001B[1;33m\u001B[0m\u001B[0m\n\u001B[0m\u001B[0;32m      3\u001B[0m     \u001B[0mprint\u001B[0m\u001B[1;33m(\u001B[0m\u001B[0mkey\u001B[0m\u001B[1;33m,\u001B[0m \u001B[1;34m'--'\u001B[0m\u001B[1;33m)\u001B[0m\u001B[1;33m\u001B[0m\u001B[1;33m\u001B[0m\u001B[0m\n\u001B[0;32m      4\u001B[0m     \u001B[1;31m# Again iterate over the nested dictionary\u001B[0m\u001B[1;33m\u001B[0m\u001B[1;33m\u001B[0m\u001B[0m\n\u001B[0;32m      5\u001B[0m     \u001B[1;32mfor\u001B[0m \u001B[0msubject\u001B[0m\u001B[1;33m,\u001B[0m \u001B[0mscore\u001B[0m \u001B[1;32min\u001B[0m \u001B[0mvalue\u001B[0m\u001B[1;33m.\u001B[0m\u001B[0mitems\u001B[0m\u001B[1;33m(\u001B[0m\u001B[1;33m)\u001B[0m\u001B[1;33m:\u001B[0m\u001B[1;33m\u001B[0m\u001B[1;33m\u001B[0m\u001B[0m\n",
      "\u001B[1;31mNameError\u001B[0m: name 'student_score' is not defined"
     ]
    }
   ],
   "source": [],
   "metadata": {
    "collapsed": false,
    "pycharm": {
     "name": "#%%\n"
    }
   }
  },
  {
   "cell_type": "code",
   "execution_count": null,
   "outputs": [],
   "source": [],
   "metadata": {
    "collapsed": false,
    "pycharm": {
     "name": "#%%\n"
    }
   }
  },
  {
   "cell_type": "code",
   "execution_count": 63,
   "outputs": [
    {
     "ename": "SyntaxError",
     "evalue": "invalid syntax (1/ipykernel_24348/3832570684.py, line 5)",
     "output_type": "error",
     "traceback": [
      "\u001B[1;36m  File \u001B[1;32m\"C:\\Users\\tranterm\\AppData\\Local\\Temp\\1/ipykernel_24348/3832570684.py\"\u001B[1;36m, line \u001B[1;32m5\u001B[0m\n\u001B[1;33m    <b> python Nested Dictionary\u001B[0m\n\u001B[1;37m    ^\u001B[0m\n\u001B[1;31mSyntaxError\u001B[0m\u001B[1;31m:\u001B[0m invalid syntax\n"
     ]
    }
   ],
   "source": [
    "# Main title\n",
    "## Sub title\n",
    "### H3 title\n",
    "#### H4 title\n",
    "<b> python Nested Dictionary\n",
    "\n",
    "\n",
    "# Python Nested Dictionary\n",
    "# In this article, you’ll learn about nested dictionary in Python. More specifically, you’ll learn to create nested dictionary, access elements, modify them and so on with the help of examples.\n",
    "#\n",
    "# In Python, a dictionary is an unordered collection of items. For example:"
   ],
   "metadata": {
    "collapsed": false,
    "pycharm": {
     "name": "#%%\n"
    }
   }
  },
  {
   "cell_type": "code",
   "execution_count": 61,
   "outputs": [],
   "source": [],
   "metadata": {
    "collapsed": false,
    "pycharm": {
     "name": "#%%\n"
    }
   }
  },
  {
   "cell_type": "code",
   "execution_count": null,
   "outputs": [],
   "source": [],
   "metadata": {
    "collapsed": false,
    "pycharm": {
     "name": "#%%\n"
    }
   }
  }
 ],
 "metadata": {
  "kernelspec": {
   "display_name": "Python 3",
   "language": "python",
   "name": "python3"
  },
  "language_info": {
   "codemirror_mode": {
    "name": "ipython",
    "version": 2
   },
   "file_extension": ".py",
   "mimetype": "text/x-python",
   "name": "python",
   "nbconvert_exporter": "python",
   "pygments_lexer": "ipython2",
   "version": "2.7.6"
  }
 },
 "nbformat": 4,
 "nbformat_minor": 0
}