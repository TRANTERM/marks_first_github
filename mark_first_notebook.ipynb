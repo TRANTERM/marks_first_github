{
 "cells": [
  {
   "cell_type": "code",
   "execution_count": 3,
   "outputs": [
    {
     "name": "stdout",
     "output_type": "stream",
     "text": [
      "hello bb\n"
     ]
    }
   ],
   "source": [
    "print(\"hello bb\")"
   ],
   "metadata": {
    "collapsed": false,
    "pycharm": {
     "name": "#%%\n"
    }
   }
  },
  {
   "cell_type": "code",
   "execution_count": 4,
   "outputs": [
    {
     "name": "stdout",
     "output_type": "stream",
     "text": [
      "The best place to learn to code is with freeCodeCamp!\n"
     ]
    }
   ],
   "source": [
    "def learn_to_code():\n",
    "    #create local variable\n",
    "    coding_website = \"freeCodeCamp\"\n",
    "    print(f\"The best place to learn to code is with {coding_website}!\")\n",
    "\n",
    "#call function\n",
    "learn_to_code()\n",
    "\n",
    "\n",
    "#output\n",
    "\n",
    "#The best place to learn to code is with freeCodeCamp!"
   ],
   "metadata": {
    "collapsed": false,
    "pycharm": {
     "name": "#%%\n"
    }
   }
  },
  {
   "cell_type": "code",
   "execution_count": 6,
   "outputs": [
    {
     "name": "stdout",
     "output_type": "stream",
     "text": [
      "This is my string ->I just created a str\n"
     ]
    },
    {
     "ename": "NameError",
     "evalue": "name 'code_website' is not defined",
     "output_type": "error",
     "traceback": [
      "\u001B[1;31m---------------------------------------------------------------------------\u001B[0m",
      "\u001B[1;31mNameError\u001B[0m                                 Traceback (most recent call last)",
      "\u001B[1;32m~\\AppData\\Local\\Temp\\1/ipykernel_17832/841564692.py\u001B[0m in \u001B[0;36m<module>\u001B[1;34m\u001B[0m\n\u001B[0;32m      6\u001B[0m \u001B[1;31m# call\u001B[0m\u001B[1;33m\u001B[0m\u001B[1;33m\u001B[0m\u001B[0m\n\u001B[0;32m      7\u001B[0m \u001B[0mlearn_to_code\u001B[0m\u001B[1;33m(\u001B[0m\u001B[1;33m)\u001B[0m\u001B[1;33m\u001B[0m\u001B[1;33m\u001B[0m\u001B[0m\n\u001B[1;32m----> 8\u001B[1;33m \u001B[0mprint\u001B[0m\u001B[1;33m(\u001B[0m\u001B[0mcode_website\u001B[0m\u001B[1;33m)\u001B[0m\u001B[1;33m\u001B[0m\u001B[1;33m\u001B[0m\u001B[0m\n\u001B[0m",
      "\u001B[1;31mNameError\u001B[0m: name 'code_website' is not defined"
     ]
    }
   ],
   "source": [
    "def learn_to_code():\n",
    "    #create a local varible\n",
    "    coding_website = \"I just created a str\"\n",
    "    print(f\"This is my string ->{coding_website}\")\n",
    "\n",
    "# call\n",
    "learn_to_code()\n",
    "print(code_website)"
   ],
   "metadata": {
    "collapsed": false,
    "pycharm": {
     "name": "#%%\n"
    }
   }
  },
  {
   "cell_type": "code",
   "execution_count": 7,
   "outputs": [
    {
     "name": "stdout",
     "output_type": "stream",
     "text": [
      "The best place to learn to code is with freeCodeCamp!\n",
      "freeCodeCamp\n"
     ]
    }
   ],
   "source": [
    "#create a global variable\n",
    "coding_website = \"freeCodeCamp\"\n",
    "\n",
    "def learn_to_code():\n",
    "    #access the variable 'coding_website' inside the function\n",
    "    print(f\"The best place to learn to code is with {coding_website}!\")\n",
    "\n",
    "#call the function\n",
    "learn_to_code()\n",
    "\n",
    "#access the variable 'coding_website' from outside the function\n",
    "print(coding_website)\n",
    "\n",
    "#output\n",
    "\n",
    "#The best place to learn to code is with freeCodeCamp!\n",
    "#freeCodeCamp"
   ],
   "metadata": {
    "collapsed": false,
    "pycharm": {
     "name": "#%%\n"
    }
   }
  },
  {
   "cell_type": "code",
   "execution_count": 8,
   "outputs": [
    {
     "name": "stdout",
     "output_type": "stream",
     "text": [
      "I want to visit London next year!\n",
      "I want to visit Athens next year!\n"
     ]
    }
   ],
   "source": [
    "#global variable\n",
    "city = \"Athens\"\n",
    "\n",
    "def travel_plans():\n",
    "    #local variable with the same name as the global variable\n",
    "    city = \"London\"\n",
    "    print(f\"I want to visit {city} next year!\")\n",
    "\n",
    "#call function - this will output the value of local variable\n",
    "travel_plans()\n",
    "\n",
    "#reference global variable - this will output the value of global variable\n",
    "print(f\"I want to visit {city} next year!\")\n",
    "\n",
    "#output\n",
    "\n",
    "#I want to visit London next year!\n",
    "#I want to visit Athens next year!"
   ],
   "metadata": {
    "collapsed": false,
    "pycharm": {
     "name": "#%%\n"
    }
   }
  },
  {
   "cell_type": "code",
   "execution_count": 10,
   "outputs": [
    {
     "ename": "UnboundLocalError",
     "evalue": "local variable 'city' referenced before assignment",
     "output_type": "error",
     "traceback": [
      "\u001B[1;31m---------------------------------------------------------------------------\u001B[0m",
      "\u001B[1;31mUnboundLocalError\u001B[0m                         Traceback (most recent call last)",
      "\u001B[1;32m~\\AppData\\Local\\Temp\\1/ipykernel_17832/1206654755.py\u001B[0m in \u001B[0;36m<module>\u001B[1;34m\u001B[0m\n\u001B[0;32m     14\u001B[0m \u001B[1;33m\u001B[0m\u001B[0m\n\u001B[0;32m     15\u001B[0m \u001B[1;31m#call function\u001B[0m\u001B[1;33m\u001B[0m\u001B[1;33m\u001B[0m\u001B[0m\n\u001B[1;32m---> 16\u001B[1;33m \u001B[0mtravel_plans\u001B[0m\u001B[1;33m(\u001B[0m\u001B[1;33m)\u001B[0m\u001B[1;33m\u001B[0m\u001B[1;33m\u001B[0m\u001B[0m\n\u001B[0m\u001B[0;32m     17\u001B[0m \u001B[1;33m\u001B[0m\u001B[0m\n\u001B[0;32m     18\u001B[0m \u001B[1;31m#output\u001B[0m\u001B[1;33m\u001B[0m\u001B[1;33m\u001B[0m\u001B[0m\n",
      "\u001B[1;32m~\\AppData\\Local\\Temp\\1/ipykernel_17832/1206654755.py\u001B[0m in \u001B[0;36mtravel_plans\u001B[1;34m()\u001B[0m\n\u001B[0;32m      5\u001B[0m     \u001B[1;31m#First, this is like when I tried to access the global variable defined outside the function.\u001B[0m\u001B[1;33m\u001B[0m\u001B[1;33m\u001B[0m\u001B[0m\n\u001B[0;32m      6\u001B[0m     \u001B[1;31m# This works fine on its own, as you saw earlier on.\u001B[0m\u001B[1;33m\u001B[0m\u001B[1;33m\u001B[0m\u001B[0m\n\u001B[1;32m----> 7\u001B[1;33m     \u001B[0mprint\u001B[0m\u001B[1;33m(\u001B[0m\u001B[1;34mf\"I want to visit {city} next year!\"\u001B[0m\u001B[1;33m)\u001B[0m\u001B[1;33m\u001B[0m\u001B[1;33m\u001B[0m\u001B[0m\n\u001B[0m\u001B[0;32m      8\u001B[0m \u001B[1;33m\u001B[0m\u001B[0m\n\u001B[0;32m      9\u001B[0m     \u001B[1;31m#However, when I then try to re-assign a different value to the global variable 'city' from inside the function,\u001B[0m\u001B[1;33m\u001B[0m\u001B[1;33m\u001B[0m\u001B[0m\n",
      "\u001B[1;31mUnboundLocalError\u001B[0m: local variable 'city' referenced before assignment"
     ]
    }
   ],
   "source": [
    "#global variable\n",
    "city = \"Athens\"\n",
    "\n",
    "def travel_plans():\n",
    "    #First, this is like when I tried to access the global variable defined outside the function.\n",
    "    # This works fine on its own, as you saw earlier on.\n",
    "    print(f\"I want to visit {city} next year!\")\n",
    "\n",
    "    #However, when I then try to re-assign a different value to the global variable 'city' from inside the function,\n",
    "    #after trying to print it,\n",
    "    #it will throw an error\n",
    "    city = \"London\"\n",
    "    print(f\"I want to visit {city} next year!\")\n",
    "\n",
    "#call function\n",
    "travel_plans()\n",
    "\n",
    "#output\n",
    "\n",
    "#UnboundLocalError: local variable 'city' referenced before assignment"
   ],
   "metadata": {
    "collapsed": false,
    "pycharm": {
     "name": "#%%\n"
    }
   }
  },
  {
   "cell_type": "code",
   "execution_count": 11,
   "outputs": [
    {
     "name": "stdout",
     "output_type": "stream",
     "text": [
      "I want to visit Athens next year!\n",
      "I want to visit Athens next year!\n",
      "I want to visit London next year!\n",
      "I want to visit London next year!\n"
     ]
    }
   ],
   "source": [
    "#global variable\n",
    "# This how you update global varibles in python in function you need to use the keyword global\n",
    "city = \"Athens\"\n",
    "\n",
    "#print value of global variable\n",
    "print(f\"I want to visit {city} next year!\")\n",
    "\n",
    "def travel_plans():\n",
    "    global city\n",
    "    #print initial value of global variable\n",
    "    print(f\"I want to visit {city} next year!\")\n",
    "    #assign a different value to global variable from within function\n",
    "    city = \"London\"\n",
    "    #print new value\n",
    "    print(f\"I want to visit {city} next year!\")\n",
    "\n",
    "#call function\n",
    "travel_plans()\n",
    "\n",
    "#print value of global variable\n",
    "print(f\"I want to visit {city} next year!\")"
   ],
   "metadata": {
    "collapsed": false,
    "pycharm": {
     "name": "#%%\n"
    }
   }
  },
  {
   "cell_type": "code",
   "execution_count": 12,
   "outputs": [
    {
     "name": "stdout",
     "output_type": "stream",
     "text": [
      "I want to visit London next year!\n",
      "I want to visit 200.0 next year!\n",
      "I want to visit 450.5 next year!\n",
      "I want to visit 450.5 next year!\n"
     ]
    }
   ],
   "source": [
    "#global variable\n",
    "# This how you update global varibles in python in function you need to use the keyword global\n",
    "revenue = 200.00\n",
    "\n",
    "#print value of global variable\n",
    "print(f\"I want to visit {city} next year!\")\n",
    "\n",
    "def travel_plans():\n",
    "    global revenue\n",
    "    #print initial value of global variable\n",
    "    print(f\"I want to visit {revenue} next year!\")\n",
    "    #assign a different value to global variable from within function\n",
    "    revenue = 450.50\n",
    "    #print new value\n",
    "    print(f\"I want to visit {revenue} next year!\")\n",
    "\n",
    "#call function\n",
    "travel_plans()\n",
    "\n",
    "#print value of global variable\n",
    "print(f\"I want to visit {revenue} next year!\")"
   ],
   "metadata": {
    "collapsed": false,
    "pycharm": {
     "name": "#%%\n"
    }
   }
  },
  {
   "cell_type": "code",
   "execution_count": null,
   "outputs": [],
   "source": [],
   "metadata": {
    "collapsed": false,
    "pycharm": {
     "name": "#%%\n"
    }
   }
  }
 ],
 "metadata": {
  "kernelspec": {
   "display_name": "Python 3",
   "language": "python",
   "name": "python3"
  },
  "language_info": {
   "codemirror_mode": {
    "name": "ipython",
    "version": 2
   },
   "file_extension": ".py",
   "mimetype": "text/x-python",
   "name": "python",
   "nbconvert_exporter": "python",
   "pygments_lexer": "ipython2",
   "version": "2.7.6"
  }
 },
 "nbformat": 4,
 "nbformat_minor": 0
}